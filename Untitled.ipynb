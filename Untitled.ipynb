{
 "cells": [
  {
   "cell_type": "code",
   "execution_count": null,
   "metadata": {},
   "outputs": [],
   "source": [
    "Top_5_install_app = cleaned_df.sort_values(by='Installs', ascending=False).loc[:,('App Name', 'Category', 'Rating', 'Reviews', 'Installs')].reset_index()\n",
    "Top_5_install_app = Top_5_install_app.drop(['index'], axis=1)\n",
    "Top_5_install_app.head(5)"
   ]
  },
  {
   "cell_type": "code",
   "execution_count": null,
   "metadata": {},
   "outputs": [],
   "source": [
    "Top_5_Rating_app = cleaned_df.sort_values(by='Rating', ascending=False).loc[:,('App Name', 'Category', 'Rating', 'Reviews', 'Installs')].reset_index()\n",
    "Top_5_Rating_app = Top_5_Rating_app.drop(['index'], axis=1)\n",
    "Top_5_Rating_app.head(5)"
   ]
  },
  {
   "cell_type": "code",
   "execution_count": null,
   "metadata": {},
   "outputs": [],
   "source": [
    "Top_5_Reviews_app = cleaned_df.sort_values(by='Reviews', ascending=False).loc[:,('App Name', 'Category', 'Rating', 'Reviews', 'Installs')].reset_index()\n",
    "Top_5_Reviews_app = Top_5_Reviews_app.drop(['index'], axis=1)\n",
    "Top_5_Reviews_app.head(5)"
   ]
  }
 ],
 "metadata": {
  "kernelspec": {
   "display_name": "Python 3",
   "language": "python",
   "name": "python3"
  },
  "language_info": {
   "codemirror_mode": {
    "name": "ipython",
    "version": 3
   },
   "file_extension": ".py",
   "mimetype": "text/x-python",
   "name": "python",
   "nbconvert_exporter": "python",
   "pygments_lexer": "ipython3",
   "version": "3.7.4"
  }
 },
 "nbformat": 4,
 "nbformat_minor": 2
}
